{
 "cells": [
  {
   "cell_type": "code",
   "execution_count": 2,
   "metadata": {},
   "outputs": [],
   "source": [
    "import csv\n",
    "import json"
   ]
  },
  {
   "cell_type": "code",
   "execution_count": 3,
   "metadata": {},
   "outputs": [],
   "source": [
    "datapath = './data/'"
   ]
  },
  {
   "cell_type": "code",
   "execution_count": 4,
   "metadata": {},
   "outputs": [],
   "source": [
    "states = {}\n",
    "with open(datapath + 'us-state-names.tsv') as tsv_file:\n",
    "    tsv_reader = csv.reader(tsv_file, delimiter=\"\\t\")\n",
    "    for line in tsv_reader:\n",
    "        states[line[0]] = line[1:]"
   ]
  },
  {
   "cell_type": "code",
   "execution_count": 5,
   "metadata": {},
   "outputs": [
    {
     "data": {
      "text/plain": [
       "{'id': ['code', 'name'],\n",
       " '1': ['AL', 'Alabama'],\n",
       " '2': ['AK', 'Alaska'],\n",
       " '4': ['AZ', 'Arizona'],\n",
       " '5': ['AR', 'Arkansas'],\n",
       " '6': ['CA', 'California'],\n",
       " '8': ['CO', 'Colorado'],\n",
       " '9': ['CT', 'Connecticut'],\n",
       " '10': ['DE', 'Delaware'],\n",
       " '11': ['DC', 'District of Columbia'],\n",
       " '12': ['FL', 'Florida'],\n",
       " '13': ['GA', 'Georgia'],\n",
       " '15': ['HI', 'Hawaii'],\n",
       " '16': ['ID', 'Idaho'],\n",
       " '17': ['IL', 'Illinois'],\n",
       " '18': ['IN', 'Indiana'],\n",
       " '19': ['IA', 'Iowa'],\n",
       " '20': ['KS', 'Kansas'],\n",
       " '21': ['KY', 'Kentucky'],\n",
       " '22': ['LA', 'Louisiana'],\n",
       " '23': ['ME', 'Maine'],\n",
       " '24': ['MD', 'Maryland'],\n",
       " '25': ['MA', 'Massachusetts'],\n",
       " '26': ['MI', 'Michigan'],\n",
       " '27': ['MN', 'Minnesota'],\n",
       " '28': ['MS', 'Mississippi'],\n",
       " '29': ['MO', 'Missouri'],\n",
       " '30': ['MT', 'Montana'],\n",
       " '31': ['NE', 'Nebraska'],\n",
       " '32': ['NV', 'Nevada'],\n",
       " '33': ['NH', 'New Hampshire'],\n",
       " '34': ['NJ', 'New Jersey'],\n",
       " '35': ['NM', 'New Mexico'],\n",
       " '36': ['NY', 'New York'],\n",
       " '37': ['NC', 'North Carolina'],\n",
       " '38': ['ND', 'North Dakota'],\n",
       " '39': ['OH', 'Ohio'],\n",
       " '40': ['OK', 'Oklahoma'],\n",
       " '41': ['OR', 'Oregon'],\n",
       " '42': ['PA', 'Pennsylvania'],\n",
       " '44': ['RI', 'Rhode Island'],\n",
       " '45': ['SC', 'South Carolina'],\n",
       " '46': ['SD', 'South Dakota'],\n",
       " '47': ['TN', 'Tennessee'],\n",
       " '48': ['TX', 'Texas'],\n",
       " '49': ['UT', 'Utah'],\n",
       " '50': ['VT', 'Vermont'],\n",
       " '51': ['VA', 'Virginia'],\n",
       " '53': ['WA', 'Washington'],\n",
       " '54': ['WV', 'West Virginia'],\n",
       " '55': ['WI', 'Wisconsin'],\n",
       " '56': ['WY', 'Wyoming'],\n",
       " '60': ['AS', 'America Samoa'],\n",
       " '64': ['FM', 'Federated States of Micronesia'],\n",
       " '66': ['GU', 'Guam'],\n",
       " '68': ['MH', 'Marshall Islands'],\n",
       " '69': ['MP', 'Northern Mariana Islands'],\n",
       " '70': ['PW', 'Palau'],\n",
       " '72': ['PR', 'Puerto Rico'],\n",
       " '74': ['UM', 'U.S. Minor Outlying Islands'],\n",
       " '78': ['VI', 'Virgin Islands of the United States']}"
      ]
     },
     "execution_count": 5,
     "metadata": {},
     "output_type": "execute_result"
    }
   ],
   "source": [
    "states"
   ]
  },
  {
   "cell_type": "code",
   "execution_count": 4,
   "metadata": {},
   "outputs": [],
   "source": [
    "with open(datapath + 'us-state-names.json', 'w') as json_file:\n",
    "    json.dump(states, json_file)"
   ]
  },
  {
   "cell_type": "code",
   "execution_count": null,
   "metadata": {},
   "outputs": [],
   "source": []
  }
 ],
 "metadata": {
  "kernelspec": {
   "display_name": "Python 3",
   "language": "python",
   "name": "python3"
  },
  "language_info": {
   "codemirror_mode": {
    "name": "ipython",
    "version": 3
   },
   "file_extension": ".py",
   "mimetype": "text/x-python",
   "name": "python",
   "nbconvert_exporter": "python",
   "pygments_lexer": "ipython3",
   "version": "3.7.2"
  }
 },
 "nbformat": 4,
 "nbformat_minor": 2
}
